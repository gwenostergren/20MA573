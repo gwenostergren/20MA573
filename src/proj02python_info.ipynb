{
  "nbformat": 4,
  "nbformat_minor": 0,
  "metadata": {
    "colab": {
      "name": "proj02python_info.ipynb",
      "provenance": [],
      "include_colab_link": true
    },
    "kernelspec": {
      "display_name": "Python 3",
      "language": "python",
      "name": "python3"
    }
  },
  "cells": [
    {
      "cell_type": "markdown",
      "metadata": {
        "id": "view-in-github",
        "colab_type": "text"
      },
      "source": [
        "<a href=\"https://colab.research.google.com/github/gwenostergren/20MA573/blob/master/src/proj02python_info.ipynb\" target=\"_parent\"><img src=\"https://colab.research.google.com/assets/colab-badge.svg\" alt=\"Open In Colab\"/></a>"
      ]
    },
    {
      "cell_type": "markdown",
      "metadata": {
        "colab_type": "text",
        "id": "b5jwBMLkpY3t"
      },
      "source": [
        "##  Abstract \n",
        "\n",
        "- Goal: Learn python basics on Jupyter notebook.\n",
        "- Ref: \n",
        "    - Python crash course (Google for it)\n",
        "    - the [naming section](https://github.com/google/styleguide/blob/gh-pages/pyguide.md#316-naming) of Google's python style guide"
      ]
    },
    {
      "cell_type": "markdown",
      "metadata": {
        "colab_type": "text",
        "id": "dB34OHqzpCXj"
      },
      "source": [
        "## Python on Jupyter notebook - Colab\n",
        "\n",
        "Python on Jupyter notebook allows one to perform a great deal of data analysis and statistical validation. cell by cell in a interactive way. A good online platform is colab, powered by google. Another good cloud platform is azure notebook, powered by microsoft. One can also install anaconda with python 3 on local computer to run Jupyter notebook.\n",
        "\n",
        "- open a new python3 notebook by visiting  https://colab.research.google.com/\n",
        "- As you can see, each cell can be chosen either code or text from its top menu.\n",
        "- A code cell will be evaluated when you press play, or when you press the shortcut, shift-enter. "
      ]
    },
    {
      "cell_type": "code",
      "metadata": {
        "colab_type": "code",
        "id": "Ovthtoi0pCXn",
        "outputId": "ec0979bd-b0aa-4598-c522-1757e5650a8c",
        "colab": {
          "base_uri": "https://localhost:8080/",
          "height": 36
        }
      },
      "source": [
        "2 + 2 #Executing a Command"
      ],
      "execution_count": 6,
      "outputs": [
        {
          "output_type": "execute_result",
          "data": {
            "text/plain": [
              "4"
            ]
          },
          "metadata": {
            "tags": []
          },
          "execution_count": 6
        }
      ]
    },
    {
      "cell_type": "markdown",
      "metadata": {
        "colab_type": "text",
        "id": "yRrPz4YgpCX5"
      },
      "source": [
        "## Importing Libraries\n",
        "\n",
        "The vast majority of the time, you'll want to use functions from pre-built libraries. You can't import every library each time, but you can import most of the common scientific ones. Here I import numpy, pandas, and matplotlib, the most common and useful libraries. \n",
        "\n",
        "Notice that you can rename libraries to whatever you want after importing. The `as` statement allows this. Here we use `np` and `pd` as aliases for `numpy` and `pandas`. This is a very common aliasing and will be found in most code snippets around the web. The point behind this is to allow you to type fewer characters when you are frequently accessing these libraries."
      ]
    },
    {
      "cell_type": "code",
      "metadata": {
        "colab_type": "code",
        "id": "acJx6F4IpCX7",
        "colab": {}
      },
      "source": [
        "import numpy as np\n",
        "import matplotlib.pyplot as plt"
      ],
      "execution_count": 0,
      "outputs": []
    },
    {
      "cell_type": "markdown",
      "metadata": {
        "colab_type": "text",
        "id": "AJGP6N4NxpIS"
      },
      "source": [
        "## Using numpy and matplotlib: A sampling example"
      ]
    },
    {
      "cell_type": "markdown",
      "metadata": {
        "colab_type": "text",
        "id": "Gzg6f5unyPbz"
      },
      "source": [
        "Let's use numpy to select 100 standard normal radom variables, and make a plot."
      ]
    },
    {
      "cell_type": "code",
      "metadata": {
        "colab_type": "code",
        "id": "Tm_bHr2lpCYP",
        "outputId": "7419f355-f265-41f2-e295-448eeaad1a93",
        "colab": {
          "base_uri": "https://localhost:8080/",
          "height": 73
        }
      },
      "source": [
        "n=10000000\n",
        "X = np.random.normal(0, 1, n)\n",
        "\n",
        "print('>>>mean is:' + str(np.mean(X)))\n",
        "print('>>>std is:' + str(np.std(X)))\n",
        "\n",
        "'''\n",
        "plt.plot(X);\n",
        "plt.xlabel('Time') \n",
        "plt.ylabel('Returns')\n",
        "plt.show()\n",
        "'''"
      ],
      "execution_count": 18,
      "outputs": [
        {
          "output_type": "stream",
          "text": [
            ">>>mean is:-0.0002902970465814301\n",
            ">>>std is:1.0002289476893511\n"
          ],
          "name": "stdout"
        },
        {
          "output_type": "execute_result",
          "data": {
            "text/plain": [
              "\"\\nplt.plot(X);\\nplt.xlabel('Time') \\nplt.ylabel('Returns')\\nplt.show()\\n\""
            ]
          },
          "metadata": {
            "tags": []
          },
          "execution_count": 18
        }
      ]
    },
    {
      "cell_type": "code",
      "metadata": {
        "id": "FJOrhHbS7b0X",
        "colab_type": "code",
        "colab": {
          "base_uri": "https://localhost:8080/",
          "height": 284
        },
        "outputId": "349cdea0-3543-4d30-acb8-16873aa3e389"
      },
      "source": [
        "def fun(n):\n",
        "  X = np.random.normal(0,1,n)\n",
        "  return np.mean(X)\n",
        "\n",
        "y_cod = [fun(i) for i in range(100,10000,100)]\n",
        "plt.plot(y_cod)"
      ],
      "execution_count": 20,
      "outputs": [
        {
          "output_type": "execute_result",
          "data": {
            "text/plain": [
              "[<matplotlib.lines.Line2D at 0x7f52ec8e60b8>]"
            ]
          },
          "metadata": {
            "tags": []
          },
          "execution_count": 20
        },
        {
          "output_type": "display_data",
          "data": {
            "image/png": "[encoded data removed]",
            "text/plain": [
              "<Figure size 432x288 with 1 Axes>"
            ]
          },
          "metadata": {
            "tags": []
          }
        }
      ]
    },
    {
      "cell_type": "markdown",
      "metadata": {
        "id": "6R9ZMbh-8fap",
        "colab_type": "text"
      },
      "source": [
        "This picture shows the LLN"
      ]
    },
    {
      "cell_type": "markdown",
      "metadata": {
        "colab_type": "text",
        "id": "MGcHGVJzpCYR"
      },
      "source": [
        "Let's use `numpy` to take some simple statistics."
      ]
    },
    {
      "cell_type": "code",
      "metadata": {
        "colab_type": "code",
        "id": "ASD-yJbypCYT",
        "outputId": "fb37fc5c-b9c3-4cbc-c94a-0d3eecea1767",
        "colab": {
          "base_uri": "https://localhost:8080/",
          "height": 36
        }
      },
      "source": [
        "np.mean(X)"
      ],
      "execution_count": 0,
      "outputs": [
        {
          "output_type": "execute_result",
          "data": {
            "text/plain": [
              "0.06828793496193812"
            ]
          },
          "metadata": {
            "tags": []
          },
          "execution_count": 4
        }
      ]
    },
    {
      "cell_type": "code",
      "metadata": {
        "colab_type": "code",
        "id": "3L6v9sf_pCYX",
        "outputId": "425aed5e-eaed-40f9-d6f3-8bd4a6026a8d",
        "colab": {
          "base_uri": "https://localhost:8080/",
          "height": 36
        }
      },
      "source": [
        "np.std(X)"
      ],
      "execution_count": 0,
      "outputs": [
        {
          "output_type": "execute_result",
          "data": {
            "text/plain": [
              "1.0141339132141727"
            ]
          },
          "metadata": {
            "tags": []
          },
          "execution_count": 5
        }
      ]
    },
    {
      "cell_type": "code",
      "metadata": {
        "colab_type": "code",
        "id": "-2TRwHgTz5U1",
        "colab": {}
      },
      "source": [
        ""
      ],
      "execution_count": 0,
      "outputs": []
    }
  ]
}