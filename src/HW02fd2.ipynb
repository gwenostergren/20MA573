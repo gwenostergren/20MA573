{
  "nbformat": 4,
  "nbformat_minor": 0,
  "metadata": {
    "kernelspec": {
      "display_name": "Python 3",
      "language": "python",
      "name": "python3"
    },
    "language_info": {
      "codemirror_mode": {
        "name": "ipython",
        "version": 3
      },
      "file_extension": ".py",
      "mimetype": "text/x-python",
      "name": "python",
      "nbconvert_exporter": "python",
      "pygments_lexer": "ipython3",
      "version": "3.7.4"
    },
    "colab": {
      "name": "HW02fd2.ipynb",
      "provenance": [],
      "include_colab_link": true
    }
  },
  "cells": [
    {
      "cell_type": "markdown",
      "metadata": {
        "id": "view-in-github",
        "colab_type": "text"
      },
      "source": [
        "<a href=\"https://colab.research.google.com/github/gwenostergren/20MA573/blob/master/src/HW02fd2.ipynb\" target=\"_parent\"><img src=\"https://colab.research.google.com/assets/colab-badge.svg\" alt=\"Open In Colab\"/></a>"
      ]
    },
    {
      "cell_type": "markdown",
      "metadata": {
        "id": "eUIdF_h-LfjS",
        "colab_type": "text"
      },
      "source": [
        "# Abstract\n",
        "- Goal:\n",
        "    - Learn the second order derivative approximation: second order central finite difference\n",
        "    - Understand convergence rate\n"
      ]
    },
    {
      "cell_type": "markdown",
      "metadata": {
        "id": "Q-pVyIq6LfjU",
        "colab_type": "text"
      },
      "source": [
        "# Problem \n",
        "\n",
        "Let $f(x) = \\sin x$. Plot $f''$ and $\\delta_{-h} \\delta_h f$ with $h = .5$"
      ]
    },
    {
      "cell_type": "markdown",
      "metadata": {
        "id": "5FFN7qHSLfjX",
        "colab_type": "text"
      },
      "source": [
        "# Analysis\n",
        "\n",
        "\n",
        "One of the commonly used FD for $f''$ is the following:\n",
        "$$f''(x) = \\frac{d}{dx} f'(x) \\simeq \\delta_h f'(x) \\simeq \\delta_h \\delta_{-h} f(x).$$\n",
        "If we write it explicitly, then\n",
        "$$f''(x) \\simeq \\frac{f(x+h) - 2 f(x) + f(x-h)}{h^2}.$$"
      ]
    },
    {
      "cell_type": "markdown",
      "metadata": {
        "id": "VtL_xCopLfjZ",
        "colab_type": "text"
      },
      "source": [
        "__Prop__\n",
        "\n",
        "The central finite difference for the second order has convergence order $1$.\n",
        "\n",
        "__Proof__ \n",
        "\n",
        "The CFD can be defined as $\\delta_{\\pm h} f'$ for $f''$. Or, $\\delta_{\\pm h} f'(x) \\simeq \\frac{1}{2}(\\delta_h f'(x) + \\delta_{-h}f'(x)) \\simeq f''(x)$"
      ]
    },
    {
      "cell_type": "markdown",
      "metadata": {
        "id": "sK_eiFTxLfja",
        "colab_type": "text"
      },
      "source": [
        "# Code"
      ]
    },
    {
      "cell_type": "code",
      "metadata": {
        "id": "mienBZM9Lfjd",
        "colab_type": "code",
        "colab": {}
      },
      "source": [
        "import numpy as np\n",
        "import matplotlib.pyplot as plt"
      ],
      "execution_count": 0,
      "outputs": []
    },
    {
      "cell_type": "code",
      "metadata": {
        "id": "wvudE8RmLfjj",
        "colab_type": "code",
        "colab": {}
      },
      "source": [
        "def sfd(f, x, h):\n",
        "    return (f(x+h) - 2*f(x) + f(x-h))/h**2\n",
        "    pass\n"
      ],
      "execution_count": 0,
      "outputs": []
    },
    {
      "cell_type": "code",
      "metadata": {
        "id": "sL-bxjQ_Lfjn",
        "colab_type": "code",
        "colab": {
          "base_uri": "https://localhost:8080/",
          "height": 265
        },
        "outputId": "7ef91c64-0ce6-4586-ffd7-edcc581ed1b2"
      },
      "source": [
        "'''\n",
        "Remove all #s below to plot a figure:\n",
        "    x_cod: points at which the derivative to be computed\n",
        "    y_cod: estimated derivative by finite difference\n",
        "'''\n",
        "\n",
        "\n",
        "\n",
        "h = .5 #step size\n",
        "\n",
        "x_co = np.linspace(0, 2*np.pi, 100)\n",
        "plt.plot(x_co, - np.sin(x_co), label = '$-sin(x)$');\n",
        "plt.plot(x_co, sfd(np.sin, x_co, h), label = 'sfd');\n",
        "plt.legend();"
      ],
      "execution_count": 13,
      "outputs": [
        {
          "output_type": "display_data",
          "data": {
            "image/png": "[encoded data removed]",
            "text/plain": [
              "<Figure size 432x288 with 1 Axes>"
            ]
          },
          "metadata": {
            "tags": []
          }
        }
      ]
    },
    {
      "cell_type": "markdown",
      "metadata": {
        "id": "VFiuzoxTLfjr",
        "colab_type": "text"
      },
      "source": [
        "plot log-log chart for the demonstration of convergence rate, find convergence order using linear regression."
      ]
    },
    {
      "cell_type": "code",
      "metadata": {
        "id": "mv8ka9ikLfjt",
        "colab_type": "code",
        "colab": {
          "base_uri": "https://localhost:8080/",
          "height": 294
        },
        "outputId": "65c476db-b46a-4ac8-f842-a5b37073044a"
      },
      "source": [
        "x_target = np.pi/3 #target point to be examined\n",
        "y_target = np.cos(x_target) #exact derivative value at the target point\n",
        "\n",
        "nn = np.arange(5, 11)\n",
        "hh = 1/np.power(2, nn) #step sizes to be taken\n",
        "err = sfd(np.sin, x_target, hh) - y_target #errors corresponding to each step size\n",
        "yy = np.log2(np.abs(err))\n",
        "plt.plot(nn, yy)\n",
        "\n"
      ],
      "execution_count": 15,
      "outputs": [
        {
          "output_type": "execute_result",
          "data": {
            "text/plain": [
              "[<matplotlib.lines.Line2D at 0x7fdf7dda9e48>]"
            ]
          },
          "metadata": {
            "tags": []
          },
          "execution_count": 15
        },
        {
          "output_type": "display_data",
          "data": {
            "image/png": "[encoded data removed]",
            "text/plain": [
              "<Figure size 432x288 with 1 Axes>"
            ]
          },
          "metadata": {
            "tags": []
          }
        }
      ]
    },
    {
      "cell_type": "code",
      "metadata": {
        "id": "IdkVACA8Lfjw",
        "colab_type": "code",
        "colab": {}
      },
      "source": [
        ""
      ],
      "execution_count": 0,
      "outputs": []
    },
    {
      "cell_type": "markdown",
      "metadata": {
        "id": "KMrm1TGbslzL",
        "colab_type": "text"
      },
      "source": [
        "#Increasing Rate of Finite Difference \n",
        "\n",
        "\n",
        "1.   Suppose that we wish to approximate the \frst derivative $u'(x)$ of a very smooth function with\n",
        "an error of only $O(h)^4$, where $h$ is the step size. Which di\u000berence approximation could we use?\n",
        "(Hint: you may consider to use more than two points in the neighborhood)\n",
        "\n",
        "  If we use CFD on four points in the neighborhood of the target, then the order of convergence should be four.\n",
        "\n",
        "\n",
        "\n",
        "2.   Let $f : R \\to R$ be a smooth even function satisfying $f(0) = 0$. Our objective is to approximate\n",
        "the second order derivative $f''(0)$.\n",
        "  - Prove that $f'(0)=0$\n",
        "    We know \n",
        "    $$f'(0)= \\lim_{x \\to 0} \\frac{f(x)-f(0)}{x-0} = \\lim_{x \\to 0} \\frac{f(x)}{x}$$ \n",
        "    And since f is even, $f(x) = f(-x)$. So, \n",
        "    $$f'(0) = \\lim_{x \\to 0} \\frac{f(-x)}{x}$$ \n",
        "    Let $a=-x$. Plugging in a gives us \n",
        "    $$f'(0)=\\lim_{z \\to 0} \\frac{f(a)}{-a} = - \\lim_{a \\to 0} \\frac{f(a)}{a} = -f'(0)$$\n",
        "    The only possible solution to $f'(0)$ is 0.\n",
        "  - Let $a_h = \\frac{2f(h)}{h^2}$ be a proposed estimator for $f''(0)$ with step size $h$. Justify it has convergence $O(h^2)$ \n",
        "    From above, we have the approximation \n",
        "    $$f''(x) \\simeq \\frac{f(x+h) - 2 f(x) + f(x-h)}{h^2}$$\n",
        "    \n",
        "\n"
      ]
    }
  ]
}