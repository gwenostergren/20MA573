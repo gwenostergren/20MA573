{
  "nbformat": 4,
  "nbformat_minor": 0,
  "metadata": {
    "colab": {
      "name": "HW03_All_Parts.ipynb",
      "provenance": [],
      "include_colab_link": true
    },
    "kernelspec": {
      "display_name": "Python 3",
      "language": "python",
      "name": "python3"
    },
    "language_info": {
      "codemirror_mode": {
        "name": "ipython",
        "version": 3
      },
      "file_extension": ".py",
      "mimetype": "text/x-python",
      "name": "python",
      "nbconvert_exporter": "python",
      "pygments_lexer": "ipython3",
      "version": "3.7.4"
    }
  },
  "cells": [
    {
      "cell_type": "markdown",
      "metadata": {
        "id": "view-in-github",
        "colab_type": "text"
      },
      "source": [
        "<a href=\"https://colab.research.google.com/github/gwenostergren/20MA573/blob/master/src/HW03_All_Parts.ipynb\" target=\"_parent\"><img src=\"https://colab.research.google.com/assets/colab-badge.svg\" alt=\"Open In Colab\"/></a>"
      ]
    },
    {
      "cell_type": "code",
      "metadata": {
        "id": "w66H_SVWRBnH",
        "colab_type": "code",
        "colab": {}
      },
      "source": [
        "#Packages to Import\n",
        "import numpy as np\n",
        "import scipy.stats as ss\n",
        "import matplotlib.pyplot as plt"
      ],
      "execution_count": 0,
      "outputs": []
    },
    {
      "cell_type": "markdown",
      "metadata": {
        "id": "5TQaYfXTP_Yz",
        "colab_type": "text"
      },
      "source": [
        "#Option Combinations"
      ]
    },
    {
      "cell_type": "markdown",
      "metadata": {
        "colab_type": "text",
        "id": "C8HzenUTSqhK"
      },
      "source": [
        "Recall that, \n",
        "\n",
        "\n",
        "__Written K-strike straddle__ is a portfolio of\n",
        "- selling K-strike call of one unit\n",
        "- selling K-strike put of one unit\n",
        "\n",
        "__Butterfly__ with three stikes $K_1 < K_2 < K_3$ is the portfolio of\n",
        "- 1 unit of written K-strike straddle\n",
        "- 1 unit of purchased K-strike call\n",
        "- 1 unit of purchased K-strike put\n",
        "\n",
        "Plot a diagram of exercise price versus payoff for the following portfolios:\n",
        "- written 40-strike straddle\n",
        "- a butterfly consists of\n",
        "  - written 40-strike straddle\n",
        "  - purchased 45-strike call\n",
        "  - purchased 35-strike put"
      ]
    },
    {
      "cell_type": "markdown",
      "metadata": {
        "id": "GVzUE_zxTrLV",
        "colab_type": "text"
      },
      "source": [
        ""
      ]
    },
    {
      "cell_type": "code",
      "metadata": {
        "id": "mwyXphpuOD3k",
        "colab_type": "code",
        "colab": {}
      },
      "source": [
        "'''Option Class Initialization Based on Lecture Notes'''\n",
        "\n",
        "class VanillaOption:\n",
        "    def __init__(\n",
        "        self,\n",
        "        otype = 1, # 1: 'call', -1: 'put'\n",
        "        strike = 110.,\n",
        "        maturity = 1.,\n",
        "        market_price = 10.):\n",
        "      self.otype = otype\n",
        "      self.strike = strike\n",
        "      self.maturity = maturity\n",
        "      self.market_price = market_price\n",
        "      \n",
        "    def explain_yourself(self): #printing option type\n",
        "      if self.otype == 1:\n",
        "        print(\"I am a call.\")\n",
        "      if self.otype == -1:\n",
        "        print(\"I am a put.\")\n",
        "        \n",
        "    def payoff(self, s): #s: excercise price\n",
        "      otype = self.otype\n",
        "      k = self.strike\n",
        "      maturity = self.maturity\n",
        "      return max([0, (s - k)*otype])\n",
        "\n"
      ],
      "execution_count": 0,
      "outputs": []
    },
    {
      "cell_type": "code",
      "metadata": {
        "id": "TlDpvvdVZRnk",
        "colab_type": "code",
        "colab": {}
      },
      "source": [
        "# Plotting Excercise Price vs Payoff of a Written 40-Strike Saddle\n",
        "option_wss_call = VanillaOption(otype = 1, strike = 40, maturity = 1.)\n",
        "option_wss_put = VanillaOption(otype = -1, strike = 40, maturity = 1.)\n",
        "\n",
        "strike_list = range(10,70)\n",
        "\n",
        "wss_call_payoff = [option_wss_call.payoff(s) for s in strike_list]\n",
        "wss_put_payoff = [option_wss_put.payoff(s) for s in strike_list]\n",
        "wss_payoff_list = []\n",
        "\n",
        "if(len(wss_call_payoff)==len(wss_put_payoff)):\n",
        "  for i in range(0, len(wss_call_payoff)): \n",
        "    wss_payoff_list.append(wss_call_payoff[i] + wss_put_payoff[i])\n",
        "else:\n",
        "  print(\"Error, option payoff not called on same range\")\n",
        "\n",
        "plt.plot(strike_list, wss_payoff_list)\n",
        "plt.xlabel('Exercise Price')\n",
        "plt.ylabel('Payoff')\n",
        "plt.title('Written 40 Strike Straddle Payoff');\n",
        "plt.show()"
      ],
      "execution_count": 0,
      "outputs": []
    },
    {
      "cell_type": "code",
      "metadata": {
        "id": "bYCRVJPlZUvU",
        "colab_type": "code",
        "colab": {}
      },
      "source": [
        "# Plotting Excercise Price vs Payoff of an Example Butterfly Portfolio\n",
        "option_fly_call = VanillaOption(otype= 1, strike= 45, maturity= 1.)\n",
        "option_fly_put = VanillaOption(otype= -1, strike= 35, maturity= 1.)\n",
        "\n",
        "fly_call_payoff = [option_fly_call.payoff(s) for s in strike_list]\n",
        "fly_put_payoff = [option_fly_put.payoff(s) for s in strike_list]\n",
        "fly_payoff_list = []\n",
        "\n",
        "\n",
        "if(len(wss_payoff_list) == len(fly_call_payoff) and len(wss_payoff_list) == len(fly_put_payoff)):\n",
        "  for i in range(0,len(fly_call_payoff)):\n",
        "    fly_payoff_list.append(wss_payoff_list[i] + fly_call_payoff[i] + fly_put_payoff[i])\n",
        "else:\n",
        "  print(\"Error, option payoff not called on same range\")\n",
        "\n",
        "plt.plot(strike_list, wss_payoff_list)\n",
        "plt.xlabel('Exercise Price')\n",
        "plt.ylabel('Payoff')\n",
        "plt.title('Butterfly Portfolio Payoff');\n",
        "plt.show()"
      ],
      "execution_count": 0,
      "outputs": []
    },
    {
      "cell_type": "markdown",
      "metadata": {
        "id": "NEtrDZH9QGCJ",
        "colab_type": "text"
      },
      "source": [
        "#BSM Price Change"
      ]
    },
    {
      "cell_type": "markdown",
      "metadata": {
        "id": "R3uJxJbwtZjp",
        "colab_type": "text"
      },
      "source": [
        "Consider an european option with\n",
        "- call type\n",
        "- strike = 110\n",
        "- maturity = T\n",
        "underlying a Gbm stock with\n",
        "- initial: 100\n",
        "- interest rate: 4.75%\n",
        "- vol ratio: $\\sigma$\n",
        "\n",
        "We denote this bsm price by $f(\\sigma, T)$.\n",
        "\n",
        "- Let $\\sigma = 20\\%$ fixed. plot $T \\mapsto f(0.2, T)$ when $T$ is ranging over $(0.5, 2)$.\n",
        "\n",
        "- Let $T = 1$ fixed. plot $\\sigma \\mapsto f(\\sigma, 1)$ when $\\sigma$ is ranging over $(.05, 0.5)$\n",
        "\n",
        "- Describe your observations. Do you think the same behavior is also true for put?\n",
        "\n",
        "- Could you prove your observations?"
      ]
    },
    {
      "cell_type": "code",
      "metadata": {
        "colab_type": "code",
        "id": "Fkeqt5l6TWgP",
        "colab": {}
      },
      "source": [
        "'''Geometric Brownian Motion Class Initialization Based on Lecture '''\n",
        "\n",
        "class Gbm:\n",
        "    def __init__(self,\n",
        "                 init_state = 100.,\n",
        "                 drift_ratio = .0475,\n",
        "                 vol_ratio = .2\n",
        "                ):\n",
        "        self.init_state = init_state\n",
        "        self.drift_ratio = drift_ratio\n",
        "        self.vol_ratio = vol_ratio\n",
        "\n",
        "    #Black-Scholes-Merton formula. \n",
        "    def bsm_price(self, vanilla_option):\n",
        "      s0 = self.init_state\n",
        "      sigma = self.vol_ratio\n",
        "      r = self.drift_ratio\n",
        "    \n",
        "      otype = vanilla_option.otype\n",
        "      k = vanilla_option.strike\n",
        "      maturity = vanilla_option.maturity\n",
        "    \n",
        "      d1 = (np.log(s0 / k) + (r + 0.5 * sigma ** 2) \n",
        "        * maturity) / (sigma * np.sqrt(maturity))\n",
        "      d2 = d1 - sigma * np.sqrt(maturity)\n",
        "    \n",
        "      return (otype * s0 * ss.norm.cdf(otype * d1)\n",
        "          - otype * np.exp(-r * maturity) * k * ss.norm.cdf(otype * d2))"
      ],
      "execution_count": 0,
      "outputs": []
    },
    {
      "cell_type": "code",
      "metadata": {
        "id": "EbN8N3RQemax",
        "colab_type": "code",
        "colab": {
          "base_uri": "https://localhost:8080/",
          "height": 295
        },
        "outputId": "ec657900-1dd3-4a73-b07d-561cfe596641"
      },
      "source": [
        "#Let Sigma = 20%, Plot T and BSM when T is between (0.5,2)\n",
        "stock1 = Gbm(init_state= 100., drift_ratio=0.0475, vol_ratio=0.2)\n",
        "\n",
        "mat_bsmlist = []\n",
        "mat_list = np.arange(0.5, 2., 0.001)\n",
        "\n",
        "for i in mat_list:\n",
        "  mat_test = VanillaOption(otype= 1, strike= 110, maturity= i)\n",
        "  mat_bsmlist.append(stock1.bsm_price(mat_test))\n",
        "\n",
        "\n",
        "plt.plot(mat_list, mat_bsmlist)\n",
        "plt.xlabel('Maturity')\n",
        "plt.ylabel('BSM Price')\n",
        "plt.title('BSM Price and Maturity Relationship');\n",
        "plt.show()"
      ],
      "execution_count": 109,
      "outputs": [
        {
          "output_type": "display_data",
          "data": {
            "image/png": "[encoded data removed]",
            "text/plain": [
              "<Figure size 432x288 with 1 Axes>"
            ]
          },
          "metadata": {
            "tags": []
          }
        }
      ]
    },
    {
      "cell_type": "code",
      "metadata": {
        "id": "2OfHScUfjhur",
        "colab_type": "code",
        "colab": {
          "base_uri": "https://localhost:8080/",
          "height": 295
        },
        "outputId": "91a640c6-85a6-40f8-917a-1e9e21d46c89"
      },
      "source": [
        "#Let T = 1. Plot Sigma and BSM price when sigma is between (0.05,0.5)\n",
        "\n",
        "option1_bsmtest = VanillaOption(otype= 1, strike= 110, maturity= 1.)\n",
        "\n",
        "sig_bsmlist = []\n",
        "sig_list = np.arange(0.05, 0.5, 0.001)\n",
        "\n",
        "for i in sig_list:\n",
        "  sig_test = Gbm(init_state= 100., drift_ratio=0.0475, vol_ratio= i)\n",
        "  sig_bsmlist.append(sig_test.bsm_price(option1_bsmtest))\n",
        "\n",
        "plt.plot(sig_list, sig_bsmlist)\n",
        "plt.xlabel('Sigma')\n",
        "plt.ylabel('BSM Price')\n",
        "plt.title('BSM Price and Sigma Relationship');\n",
        "plt.show()"
      ],
      "execution_count": 111,
      "outputs": [
        {
          "output_type": "display_data",
          "data": {
            "image/png": "[encoded data removed]",
            "text/plain": [
              "<Figure size 432x288 with 1 Axes>"
            ]
          },
          "metadata": {
            "tags": []
          }
        }
      ]
    },
    {
      "cell_type": "markdown",
      "metadata": {
        "id": "NpQyXMxPlDDV",
        "colab_type": "text"
      },
      "source": [
        "**Describe your observations. Do you think the same behavior is true for put?**\n",
        "\n",
        "In both cases, as sigma or the maturity increases, the BSM price increases. I believe this behavior is consistent with what it should be. \n"
      ]
    },
    {
      "cell_type": "markdown",
      "metadata": {
        "id": "8LKqC5CaQLyW",
        "colab_type": "text"
      },
      "source": [
        "#Implied Volatility"
      ]
    },
    {
      "cell_type": "markdown",
      "metadata": {
        "id": "iHMqWczsik6_",
        "colab_type": "text"
      },
      "source": [
        "- Prove the following facts: Supose $f$ is a function satisfying\n",
        "  - $f(0) = f_{min},$ and $\\lim_{x\\to \\infty}f(x) =  f_{max}$\n",
        "  - $f$ is continuous\n",
        "  - $f$ is strictly increasing\n",
        "  \n",
        "  then, for any $p\\in  (f_{min}, f_{max})$, \n",
        "  - there exists unique $\\hat \\sigma$, such that $f(\\hat \\sigma) = p$ and  \n",
        "  $$\\hat \\sigma = \\arg\\min_{\\sigma\\in (0,\\infty)} | f(\\sigma) - p|.$$"
      ]
    },
    {
      "cell_type": "code",
      "metadata": {
        "id": "F7pm3CJCONa-",
        "colab_type": "code",
        "colab": {}
      },
      "source": [
        ""
      ],
      "execution_count": 0,
      "outputs": []
    },
    {
      "cell_type": "markdown",
      "metadata": {
        "id": "F9tYcXcNcbil",
        "colab_type": "text"
      },
      "source": [
        "- Now we denote by $f(\\sigma)$ the BSM put price with the following parameters:\n",
        "  - vol_ratio = $\\sigma$; spot_price = 100.; drift_ratio = .0475; strike = 110.; maturity = 1.\n",
        "  \n",
        "  Answer the following questions:\n",
        "  - What is $f_{min}$ and $f_{max}$?\n",
        "  - Is $f$ strictly increasing on $(0,\\infty)$? Justify your answer.\n",
        "  - If the market put price is $10$, then what's the implied volatility?"
      ]
    },
    {
      "cell_type": "markdown",
      "metadata": {
        "id": "Yb5WeJlQp971",
        "colab_type": "text"
      },
      "source": [
        "- Find its implied volatility with the following parameters:\n",
        "  - BSM call price is 10.;  spot_price = 100.; drift_ratio = .0475; strike = 110.; maturity = 1.\n",
        "\n"
      ]
    },
    {
      "cell_type": "code",
      "metadata": {
        "id": "cE1W8b5IOC_u",
        "colab_type": "code",
        "colab": {}
      },
      "source": [
        ""
      ],
      "execution_count": 0,
      "outputs": []
    }
  ]
}