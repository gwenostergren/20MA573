{
  "nbformat": 4,
  "nbformat_minor": 0,
  "metadata": {
    "kernelspec": {
      "display_name": "Python 3",
      "language": "python",
      "name": "python3"
    },
    "language_info": {
      "codemirror_mode": {
        "name": "ipython",
        "version": 3
      },
      "file_extension": ".py",
      "mimetype": "text/x-python",
      "name": "python",
      "nbconvert_exporter": "python",
      "pygments_lexer": "ipython3",
      "version": "3.7.4"
    },
    "colab": {
      "name": "HW01_Grid_random_walk.ipynb",
      "provenance": [],
      "include_colab_link": true
    }
  },
  "cells": [
    {
      "cell_type": "markdown",
      "metadata": {
        "id": "view-in-github",
        "colab_type": "text"
      },
      "source": [
        "<a href=\"https://colab.research.google.com/github/gwenostergren/20MA573/blob/master/src/HW01_Grid_random_walk.ipynb\" target=\"_parent\"><img src=\"https://colab.research.google.com/assets/colab-badge.svg\" alt=\"Open In Colab\"/></a>"
      ]
    },
    {
      "cell_type": "markdown",
      "metadata": {
        "id": "ZIzqXebTSfAl",
        "colab_type": "text"
      },
      "source": [
        "# Escaping from a Gridworld \n",
        "\n",
        "We will take n dimensional gridworld of any shape as our experimental environment. Read and understand the code in the following shell. Then proceed to next questions."
      ]
    },
    {
      "cell_type": "code",
      "metadata": {
        "id": "d4bhx611SfAx",
        "colab_type": "code",
        "colab": {}
      },
      "source": [
        "import random\n",
        "\n",
        "class grid:\n",
        "    def __init__(self, shape = (5, 5)):\n",
        "        self.n_dim = len(shape)\n",
        "        self.shape = shape\n",
        "        print('>>> grid world shape is: '+str(shape))\n",
        "\n",
        "    def is_interior(self,ix):\n",
        "        return all([0.<a<b-1 for a,b in zip(ix,list(self.shape))])\n",
        "     \n",
        "    #input: lists of index\n",
        "    #return: running cost, list of next index, list of probability\n",
        "    def step(self, ix):\n",
        "        run_cost = 0.                \n",
        "        ix_next = []; pr_next= []\n",
        "        if self.is_interior(ix):\n",
        "            run_cost = 1.\n",
        "            for i in range(self.n_dim):\n",
        "                ix1 = ix.copy(); ix1[i]+=1; ix_next += [ix1,]\n",
        "                pr1 = 1./(self.n_dim*2.0) \n",
        "                pr_next += [pr1,]\n",
        "            for i in range(self.n_dim):\n",
        "                ix1 = ix.copy(); ix1[i]-=1; ix_next += [ix1,]\n",
        "                pr1 = 1./(self.n_dim*2.0) \n",
        "                pr_next += [pr1,]\n",
        "     \n",
        "        return run_cost, ix_next, pr_next\n",
        "    \n",
        "    def step_random(self, ix):\n",
        "        run_cost, ix_next, pr_next = self.step(ix)\n",
        "        ix_next_rd = random.choices(ix_next, pr_next, k = 1)\n",
        "        return run_cost, ix_next_rd[0]\n"
      ],
      "execution_count": 0,
      "outputs": []
    },
    {
      "cell_type": "markdown",
      "metadata": {
        "id": "1DA-YXflSfBP",
        "colab_type": "text"
      },
      "source": [
        "- Explain the meaning of each output from the next shell\n",
        "  - Output line 1: The shape of the grid is printed, in this case (5x5).\n",
        "  - Output line 2: This line returns True if the first number of the starting position (ix1) is inside the shape of the grid. In this case it returns true because the starting point (2,3) is inside of the (5,5) grid.\n",
        "  - Output line 3: This line prints the return of calling the step function defined in the class above. There are three variables returned: run_cost, ix_next, and pr_next. In this case the run_cost is returned as 1.0 and serves as an indicator that the function ran correctly and a counter if this function is run multiple times. The second variable returned (ix_next) is a list of all the possible steps that could be taken, and pr_next returns the probability of each of these steps respectively. \n",
        "  - Output line 4: spacer\n",
        "  - Output line 5: Prints the result of calling the is_interior function on a starting point not on the interior of the grid. In this case it returns false because the starting point (1,4) is not on the interior of the grid (5,5)\n",
        "  - Output line 6: Prints the result of calling the step function on a non interior point. The output is a zero in run_cost signaling that the function did not run as intended, and empty [ ] for the ix_next, and pr_next variables signaling there is no possible moves from this position. "
      ]
    },
    {
      "cell_type": "code",
      "metadata": {
        "id": "9buBzLM3SfBT",
        "colab_type": "code",
        "outputId": "dc460fb4-ee1b-4939-cd69-95f3b200b300",
        "colab": {
          "base_uri": "https://localhost:8080/",
          "height": 199
        }
      },
      "source": [
        "\n",
        "#####check\n",
        "\n",
        "g1 = grid(shape=(5,5))\n",
        "ix1 = [2,3]\n",
        "print('>>>', g1.is_interior(ix1))\n",
        "o1, o2, o3 = g1.step(ix1)\n",
        "print('>>>', o1, '\\n', o2, '\\n', o3)\n",
        "print('>>>>>>>>><<<<<<<<<<')\n",
        "ix2 = [1,4]\n",
        "print('>>>', g1.is_interior(ix2))\n",
        "o1, o2, o3 = g1.step(ix2)\n",
        "print('>>>', o1, '\\n', o2, '\\n', o3)\n"
      ],
      "execution_count": 30,
      "outputs": [
        {
          "output_type": "stream",
          "text": [
            ">>> grid world shape is: (5, 5)\n",
            ">>> True\n",
            ">>> 1.0 \n",
            " [[3, 3], [2, 4], [1, 3], [2, 2]] \n",
            " [0.25, 0.25, 0.25, 0.25]\n",
            ">>>>>>>>><<<<<<<<<<\n",
            ">>> False\n",
            ">>> 0.0 \n",
            " [] \n",
            " []\n"
          ],
          "name": "stdout"
        }
      ]
    },
    {
      "cell_type": "markdown",
      "metadata": {
        "id": "1k_4noRYSfBj",
        "colab_type": "text"
      },
      "source": [
        "- Explain the meaning of each output from the next shell\n",
        "  - All the lines printing in the form [x, y] are the are the current positions of the \"man\" inside the grid after the step.random function has been called. The random.choices function takes into account the probability of each option and chooses a step to take then returns the new position. This continues for a random amount of times until the position is outside the grid. After such a position is achieved, the tot_cost is printed which is a count of the amount of steps taken. "
      ]
    },
    {
      "cell_type": "code",
      "metadata": {
        "id": "FPlE2pLHSfBn",
        "colab_type": "code",
        "outputId": "e91bacca-d227-428b-a726-bf32b6644284",
        "colab": {
          "base_uri": "https://localhost:8080/",
          "height": 235
        }
      },
      "source": [
        "#import ipdb\n",
        "\n",
        "ix = [2,2]\n",
        "tot_cost = 0.\n",
        "while g1.is_interior(ix):\n",
        "    #ipdb.set_trace()\n",
        "    run_cost, ix = g1.step_random(ix)\n",
        "    print('>>>', ix)\n",
        "    tot_cost+=run_cost\n",
        "    \n",
        "print('>>>', tot_cost)"
      ],
      "execution_count": 32,
      "outputs": [
        {
          "output_type": "stream",
          "text": [
            ">>> [2, 1]\n",
            ">>> [2, 2]\n",
            ">>> [2, 1]\n",
            ">>> [3, 1]\n",
            ">>> [2, 1]\n",
            ">>> [1, 1]\n",
            ">>> [1, 2]\n",
            ">>> [2, 2]\n",
            ">>> [3, 2]\n",
            ">>> [3, 1]\n",
            ">>> [4, 1]\n",
            ">>> 11.0\n"
          ],
          "name": "stdout"
        }
      ]
    },
    {
      "cell_type": "markdown",
      "metadata": {
        "id": "KuCp8wk-SfBy",
        "colab_type": "text"
      },
      "source": [
        "- Consider a grid world of shape (4,4). This means, the agent's state belongs to the state space of $\\{0,1,2,3,4\\}\\times \\{0,1,2,3,4\\}$. A state $(a,b)$ is called a boundary if one of its coordinate is either $0$ or $4$. Otherwise, the state is called interior. An agent moves a random walk in the grid world from initial state $(2,2)$. Use your math to find the expected number of steps to reach the boundary."
      ]
    },
    {
      "cell_type": "markdown",
      "metadata": {
        "id": "u8Q6BekNSfB1",
        "colab_type": "text"
      },
      "source": [
        "\n",
        "\n",
        "- (your answer)"
      ]
    },
    {
      "cell_type": "markdown",
      "metadata": {
        "id": "sB53CUk4SfB3",
        "colab_type": "text"
      },
      "source": [
        "- Use your code to verify your answer."
      ]
    },
    {
      "cell_type": "code",
      "metadata": {
        "id": "luvi5VLSSfB7",
        "colab_type": "code",
        "colab": {}
      },
      "source": [
        "#your code \n",
        "pass"
      ],
      "execution_count": 0,
      "outputs": []
    },
    {
      "cell_type": "code",
      "metadata": {
        "id": "o8y1TpmuSfCH",
        "colab_type": "code",
        "colab": {}
      },
      "source": [
        ""
      ],
      "execution_count": 0,
      "outputs": []
    }
  ]
}