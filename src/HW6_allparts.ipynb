{
  "nbformat": 4,
  "nbformat_minor": 0,
  "metadata": {
    "colab": {
      "name": "HW6_allparts.ipynb",
      "provenance": [],
      "authorship_tag": "ABX9TyOMAsb8xf1fCknzoT4J1Su6",
      "include_colab_link": true
    },
    "kernelspec": {
      "name": "python3",
      "display_name": "Python 3"
    }
  },
  "cells": [
    {
      "cell_type": "markdown",
      "metadata": {
        "id": "view-in-github",
        "colab_type": "text"
      },
      "source": [
        "<a href=\"https://colab.research.google.com/github/gwenostergren/20MA573/blob/master/src/HW6_allparts.ipynb\" target=\"_parent\"><img src=\"https://colab.research.google.com/assets/colab-badge.svg\" alt=\"Open In Colab\"/></a>"
      ]
    },
    {
      "cell_type": "markdown",
      "metadata": {
        "id": "6WjIsupR2x1O",
        "colab_type": "text"
      },
      "source": [
        "#Brownian path ex 1\n",
        "\n",
        "**Pseudocode**\n",
        "\n",
        "procedure exactbm1d(T, N)\n",
        "  \n",
        "$W_0 \\to 0$ \n",
        "  \n",
        "$h \\to \\frac{T}{N}$\n",
        "\n",
        "for $i = 0, ... , N-1$\n",
        "  * $Z \\to N(0,1)$\n",
        "  * $W_{i+1} = W_i + \\sqrt{h} Z$\n",
        "\n",
        "return $(W_0, ... , W_N)$\n"
      ]
    },
    {
      "cell_type": "code",
      "metadata": {
        "id": "BPkHKxfG2wou",
        "colab_type": "code",
        "colab": {}
      },
      "source": [
        "#Implement Pseudocode above\n",
        "\n",
        "import numpy as np\n",
        "import matplotlib.pyplot as plt\n",
        "\n",
        "def exactbm1d(sttime, parts):\n",
        "  bmpath = [0]\n",
        "  h = sttime/parts\n",
        "  for i in range(0, parts - 1):\n",
        "    Z = np.random.normal(loc = 0.0, scale = 1.0)\n",
        "    bmpath.append(bmpath[i] + (h**0.5)*Z)\n",
        "  return bmpath\n",
        "\n",
        "pathsim = []\n",
        "for i in range(100,110): pathsim.append(exactbm1d(1,10))\n",
        "#how to plot over loglog"
      ],
      "execution_count": 0,
      "outputs": []
    },
    {
      "cell_type": "markdown",
      "metadata": {
        "id": "xyoQWyL63Uvj",
        "colab_type": "text"
      },
      "source": [
        "#Brownian path ex 3"
      ]
    },
    {
      "cell_type": "markdown",
      "metadata": {
        "id": "-Sg-dty63gJP",
        "colab_type": "text"
      },
      "source": [
        "**Pricing Arithmetic asian option**\n",
        "\n",
        "\n",
        "class arasian (otype, strike, maturity, nstep, npath)\n",
        "\n",
        "for $i = 1, 2, ... , (n+1)$\n",
        "  "
      ]
    },
    {
      "cell_type": "code",
      "metadata": {
        "id": "wZ9N8fVneew2",
        "colab_type": "code",
        "colab": {}
      },
      "source": [
        "class VanillaOption:\n",
        "    def __init__(\n",
        "        self,\n",
        "        otype = 1, # 1: 'call', -1: 'put'\n",
        "        strike = 110.,\n",
        "        maturity = 1.,\n",
        "        market_price = 10.):\n",
        "      self.otype = otype\n",
        "      self.strike = strike\n",
        "      self.maturity = maturity\n",
        "      self.market_price = market_price\n",
        "      \n",
        "    def explain_yourself(self): #printing option type\n",
        "      if self.otype == 1:\n",
        "        print(\"I am a call.\")\n",
        "      if self.otype == -1:\n",
        "        print(\"I am a put.\")\n",
        "        \n",
        "    def payoff(self, s): #s: excercise price\n",
        "      otype = self.otype\n",
        "      k = self.strike\n",
        "      maturity = self.maturity\n",
        "      return max([0, (s - k)*otype])\n",
        "\n",
        "class Gbm:\n",
        "    def __init__(self,\n",
        "                 init_state = 100.,\n",
        "                 drift_ratio = .0475,\n",
        "                 vol_ratio = .2\n",
        "                ):\n",
        "        self.init_state = init_state\n",
        "        self.drift_ratio = drift_ratio\n",
        "        self.vol_ratio = vol_ratio\n",
        "\n",
        "    #Black-Scholes-Merton formula. \n",
        "    def bsm_price(self, vanilla_option):\n",
        "      s0 = self.init_state\n",
        "      sigma = self.vol_ratio\n",
        "      r = self.drift_ratio\n",
        "    \n",
        "      otype = vanilla_option.otype\n",
        "      k = vanilla_option.strike\n",
        "      maturity = vanilla_option.maturity\n",
        "    \n",
        "      d1 = (np.log(s0 / k) + (r + 0.5 * sigma ** 2) \n",
        "        * maturity) / (sigma * np.sqrt(maturity))\n",
        "      d2 = d1 - sigma * np.sqrt(maturity)\n",
        "    \n",
        "      return (otype * s0 * ss.norm.cdf(otype * d1)\n",
        "          - otype * np.exp(-r * maturity) * k * ss.norm.cdf(otype * d2))\n",
        "      \n",
        "    def arasian(self, otype, strike, maturity, nstep):\n",
        "      timeintervals = []\n",
        "      arithave = 0.0\n",
        "      callop = VanillaOption(strike = strike, maturity = maturity)\n",
        "\n",
        "      for i in range(1, nstep +1): timeintervals.append((i-1)*(maturity/nstep))\n",
        "      for i in range(1, nstep): arithhave =+ Gbm.bsm_price(timeintervals, callop)\n",
        "\n",
        "      return (max(arithave, strike))\n",
        "\n",
        "stock1 = Gbm(init_state= 100., drift_ratio=0.0475, vol_ratio=0.2)\n",
        "print(stock1.arasian(otype = 1, strike = 110.0, maturity = 1.0, nstep = 5))\n"
      ],
      "execution_count": 0,
      "outputs": []
    },
    {
      "cell_type": "markdown",
      "metadata": {
        "colab_type": "text",
        "id": "96l6Yl10ppR4"
      },
      "source": [
        "**Geometric Brownian Motion**\n",
        "EX 1: Denote $GBM(s, \\mu, \\sigma^2)$ by $dS_t = \\mu S_t dt + \\sigma S_t dW_t$, $S_0 = s$. Find $log(S_t)$ for $S~GBM(s, \\mu, \\sigma^2)$.\n",
        "* Using Ito's, $f(x) = log(x)$, $f'(x) = x^{-1}$, $f''(x) = -x^{-2}$.\n",
        "$$ log(S_t) - log(S_0) = (S_t)^{-1}dS_t - \\frac{1}{2}(S_t^{-2}\\sigma^2 S_t^2)dt$$ \n",
        "$$ log(S_t) = log(S_0) + (\\mu + \\frac{\\sigma^2}{2})dt + \\sigma dW_t$$"
      ]
    }
  ]
}