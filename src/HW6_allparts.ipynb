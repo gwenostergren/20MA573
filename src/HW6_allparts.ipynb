{
  "nbformat": 4,
  "nbformat_minor": 0,
  "metadata": {
    "colab": {
      "name": "HW6_allparts.ipynb",
      "provenance": [],
      "authorship_tag": "ABX9TyMgVxQ8tK7fnOjt0tmGeVbO",
      "include_colab_link": true
    },
    "kernelspec": {
      "name": "python3",
      "display_name": "Python 3"
    }
  },
  "cells": [
    {
      "cell_type": "markdown",
      "metadata": {
        "id": "view-in-github",
        "colab_type": "text"
      },
      "source": [
        "<a href=\"https://colab.research.google.com/github/gwenostergren/20MA573/blob/master/src/HW6_allparts.ipynb\" target=\"_parent\"><img src=\"https://colab.research.google.com/assets/colab-badge.svg\" alt=\"Open In Colab\"/></a>"
      ]
    },
    {
      "cell_type": "markdown",
      "metadata": {
        "id": "6WjIsupR2x1O",
        "colab_type": "text"
      },
      "source": [
        "#Brownian path ex 1\n",
        "\n",
        "**Pseudocode**\n"
      ]
    },
    {
      "cell_type": "code",
      "metadata": {
        "id": "BPkHKxfG2wou",
        "colab_type": "code",
        "colab": {}
      },
      "source": [
        ""
      ],
      "execution_count": 0,
      "outputs": []
    },
    {
      "cell_type": "markdown",
      "metadata": {
        "id": "xyoQWyL63Uvj",
        "colab_type": "text"
      },
      "source": [
        "#Brownian path ex 3"
      ]
    },
    {
      "cell_type": "markdown",
      "metadata": {
        "id": "-Sg-dty63gJP",
        "colab_type": "text"
      },
      "source": [
        ""
      ]
    }
  ]
}