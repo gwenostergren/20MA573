{
  "nbformat": 4,
  "nbformat_minor": 0,
  "metadata": {
    "colab": {
      "name": "Notes_W3_european_options_class.ipynb",
      "provenance": [],
      "include_colab_link": true
    },
    "kernelspec": {
      "display_name": "Python 3",
      "language": "python",
      "name": "python3"
    },
    "language_info": {
      "codemirror_mode": {
        "name": "ipython",
        "version": 3
      },
      "file_extension": ".py",
      "mimetype": "text/x-python",
      "name": "python",
      "nbconvert_exporter": "python",
      "pygments_lexer": "ipython3",
      "version": "3.7.4"
    }
  },
  "cells": [
    {
      "cell_type": "markdown",
      "metadata": {
        "id": "view-in-github",
        "colab_type": "text"
      },
      "source": [
        "<a href=\"https://colab.research.google.com/github/gwenostergren/20MA573/blob/master/src/Notes_W3_european_options_class.ipynb\" target=\"_parent\"><img src=\"https://colab.research.google.com/assets/colab-badge.svg\" alt=\"Open In Colab\"/></a>"
      ]
    },
    {
      "cell_type": "markdown",
      "metadata": {
        "colab_type": "text",
        "id": "eplzMXxaKsPg"
      },
      "source": [
        "# Abstract\n",
        "\n",
        "- Create european call/put  class\n",
        "- Analyse payoff structures of option combinations, such as writeen straddle and butterfly."
      ]
    },
    {
      "cell_type": "markdown",
      "metadata": {
        "colab_type": "text",
        "id": "iBhy7g4PLNZd"
      },
      "source": [
        "# Anal\n",
        "\n",
        "Payoff of European call with \n",
        "strike $K$ and exercise price $S$ is given as\n",
        "$$C(S, K)= (S - K)^+ = \\max\\{S- K, 0\\}.$$\n",
        "Similarly European put with \n",
        "strike $K$ and exercise price $S$ is given as\n",
        "$$P(S, K)= (S - K)^- = \\max\\{-S+ K, 0\\}.$$\n",
        "Traders use different option combinations according to market analysis to meet their various objectives. Please find wiki for those combinations and their use.\n",
        "\n"
      ]
    },
    {
      "cell_type": "markdown",
      "metadata": {
        "colab_type": "text",
        "id": "OMBWh9sCNhWS"
      },
      "source": [
        "# Code\n",
        "\n",
        "First, we create call/put class"
      ]
    },
    {
      "cell_type": "code",
      "metadata": {
        "colab_type": "code",
        "id": "GhQhpUpypenq",
        "colab": {}
      },
      "source": [
        "'''=========\n",
        "option class init\n",
        "=========='''\n",
        "class VanillaOption:\n",
        "    def __init__(\n",
        "        self,\n",
        "        otype = 1, # 1: 'call'\n",
        "                  # -1: 'put'\n",
        "        strike = 110.,\n",
        "        maturity = 1.,\n",
        "        market_price = 10.):\n",
        "      self.otype = otype\n",
        "      self.strike = strike\n",
        "      self.maturity = maturity\n",
        "      self.market_price = market_price #this will be used for calibration\n",
        "      \n",
        "    def explain_yourself(self):\n",
        "        if self.otype == 1:\n",
        "          print(\"I am a call.\")\n",
        "        if self.otype == -1:\n",
        "          print(\"I am a put.\")\n",
        "\n",
        "    def payoff(self, s): #s: excercise price\n",
        "      otype = self.otype\n",
        "      k = self.strike\n",
        "      maturity = self.maturity\n",
        "      return max([0, (s - k)*otype])"
      ],
      "execution_count": 0,
      "outputs": []
    },
    {
      "cell_type": "code",
      "metadata": {
        "id": "TFzGAymVz2KJ",
        "colab_type": "code",
        "colab": {
          "base_uri": "https://localhost:8080/",
          "height": 240
        },
        "outputId": "85f37a81-e657-4bba-8dc6-e0bef53092b7"
      },
      "source": [
        "#testing above code\n",
        "option1 = VanillaOption(otype=-1,strike = 10., maturity = .5, market_price=11)\n",
        "\n",
        "option1.explain_yourself()\n",
        "option1.payoff(12)\n",
        "\n",
        "#The difference between range and list\n",
        "excercise_price_range = range(5, 15, 1)\n",
        "print(excercise_price_range) #Only saves 5 and 15 in memory\n",
        "list(excercise_price_range) #Saves every number between 5 and 15 in memory\n",
        "\n",
        "# Range saves 2 numbers no matter how far apart they are\n",
        "# List saves a lot and is more computationally intensive.\n",
        "\n",
        "for s in excercise_price_range:\n",
        "  print(option1.payoff(s))"
      ],
      "execution_count": 23,
      "outputs": [
        {
          "output_type": "stream",
          "text": [
            "I am a put.\n",
            "range(5, 15)\n",
            "5.0\n",
            "4.0\n",
            "3.0\n",
            "2.0\n",
            "1.0\n",
            "0\n",
            "0\n",
            "0\n",
            "0\n",
            "0\n"
          ],
          "name": "stdout"
        }
      ]
    },
    {
      "cell_type": "markdown",
      "metadata": {
        "colab_type": "text",
        "id": "a92eaPhnN9Kn"
      },
      "source": [
        "__Test__\n",
        "\n",
        "We will use a few examples to test the above class.\n",
        "\n",
        "__ex__\n",
        "\n",
        "plot payoff diagram of 40-strike call as a function of exercise price."
      ]
    },
    {
      "cell_type": "code",
      "metadata": {
        "id": "7_9bcOyqy4WZ",
        "colab_type": "code",
        "colab": {}
      },
      "source": [
        "import matplotlib.pyplot as plt"
      ],
      "execution_count": 0,
      "outputs": []
    },
    {
      "cell_type": "code",
      "metadata": {
        "id": "Hgo_1ixBy4Wf",
        "colab_type": "code",
        "outputId": "ea0ae1a9-fe73-40e9-95a6-197b90e6a08c",
        "colab": {
          "base_uri": "https://localhost:8080/",
          "height": 295
        }
      },
      "source": [
        "\n",
        "#create option instance, maturity is just arbitrarily given\n",
        "opt1 = VanillaOption(otype = 1, strike = 40, maturity= 1.) \n",
        "stk_list = range(20, 61)\n",
        "payoff_list = [opt1.payoff(s) for s in stk_list]\n",
        "plt.plot(stk_list, payoff_list)\n",
        "\n",
        "#decorations\n",
        "plt.xlabel('exercise price')\n",
        "plt.ylabel('payoff')\n",
        "plt.title('40-strike call');\n",
        "plt.show()"
      ],
      "execution_count": 3,
      "outputs": [
        {
          "output_type": "display_data",
          "data": {
            "image/png": "[encoded data removed]",
            "text/plain": [
              "<Figure size 432x288 with 1 Axes>"
            ]
          },
          "metadata": {
            "tags": []
          }
        }
      ]
    },
    {
      "cell_type": "code",
      "metadata": {
        "colab_type": "code",
        "id": "YRgXQ89sPEn3",
        "colab": {}
      },
      "source": [
        ""
      ],
      "execution_count": 0,
      "outputs": []
    }
  ]
}