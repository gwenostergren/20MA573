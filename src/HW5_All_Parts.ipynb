{
  "nbformat": 4,
  "nbformat_minor": 0,
  "metadata": {
    "colab": {
      "name": "HW5_All_Parts.ipynb",
      "provenance": [],
      "authorship_tag": "ABX9TyOoWtP0fvuLyBS+XVxgUkKk",
      "include_colab_link": true
    },
    "kernelspec": {
      "name": "python3",
      "display_name": "Python 3"
    }
  },
  "cells": [
    {
      "cell_type": "markdown",
      "metadata": {
        "id": "view-in-github",
        "colab_type": "text"
      },
      "source": [
        "<a href=\"https://colab.research.google.com/github/gwenostergren/20MA573/blob/master/src/HW5_All_Parts.ipynb\" target=\"_parent\"><img src=\"https://colab.research.google.com/assets/colab-badge.svg\" alt=\"Open In Colab\"/></a>"
      ]
    },
    {
      "cell_type": "markdown",
      "metadata": {
        "id": "umeCNrCt3JP2",
        "colab_type": "text"
      },
      "source": [
        "# Monte Carlo Basics"
      ]
    },
    {
      "cell_type": "markdown",
      "metadata": {
        "id": "xHXjF8E0_tdf",
        "colab_type": "text"
      },
      "source": [
        "**Example 1**\n",
        "Using algo1, design esitimator $\\pi(N)$ and compute $\\pi(10000)$"
      ]
    },
    {
      "cell_type": "code",
      "metadata": {
        "id": "rStKV0yw_tQ6",
        "colab_type": "code",
        "outputId": "1ca122df-15c1-4fda-dbf9-5d2021d3a062",
        "colab": {
          "base_uri": "https://localhost:8080/",
          "height": 35
        }
      },
      "source": [
        "#Estimating Pi\n",
        "import numpy as np\n",
        "import matplotlib.pyplot as plt\n",
        "\n",
        "def MCPI(N):\n",
        "  count = N\n",
        "  n = 0\n",
        "  for i in range(1,count):\n",
        "    X = np.random.uniform(-1,1)\n",
        "    Y = np.random.uniform(-1,1)\n",
        "    if (X**2 + Y**2 < 1):\n",
        "      n = n + 1\n",
        "\n",
        "  return (4*n/count)\n",
        "\n",
        "print(MCPI(10000000))"
      ],
      "execution_count": 0,
      "outputs": [
        {
          "output_type": "stream",
          "text": [
            "3.141188\n"
          ],
          "name": "stdout"
        }
      ]
    },
    {
      "cell_type": "markdown",
      "metadata": {
        "id": "08xIIQ7Sb77m",
        "colab_type": "text"
      },
      "source": [
        "**Example 3**\n",
        "\n",
        "![alt text](https://drive.google.com/uc?id=179TEjWZquj9ea97N0NAv6jj3ZyD5tOvc)"
      ]
    },
    {
      "cell_type": "markdown",
      "metadata": {
        "id": "xapFSVOM-mXh",
        "colab_type": "text"
      },
      "source": [
        "**Exercise 4**\n",
        "- Use $\\beta_{100}$ of ex 3 to estimate $MSE(\\pi_N)$ by repeating $\\pi_N$ of Ex 1. One must write both Pseudocode and Python code\n",
        "\n",
        "Pseudocode\n",
        "\n",
        "- procedure MSEBETA (count, val)\n",
        "  - alpha $\\to$ 0\n",
        "  - for $i = 1, ... , N$ do\n",
        "    - call the MCPI function and add value to alpha and put in a list\n",
        "  - mean $\\to$ $1/N(alpha)$\n",
        "  - s $\\to$ 0\n",
        "  - for $i = 1, ... , N$\n",
        "    - add $(est_i - mean)^2$ to s\n",
        "  - return $(1/N)(s)$\n",
        "\n"
      ]
    },
    {
      "cell_type": "code",
      "metadata": {
        "id": "G5n6MmHj-l4m",
        "colab_type": "code",
        "outputId": "93fc21c5-3069-4aa3-e8da-bf1fcd1ab009",
        "colab": {
          "base_uri": "https://localhost:8080/",
          "height": 35
        }
      },
      "source": [
        "# Estimating MSE of MCPI function\n",
        "pi = 3.14159265359\n",
        "\n",
        "def MSEBETA(count, val):\n",
        "  alpha = 0\n",
        "  estimates = []\n",
        "  for i in range(0,count): #estimating the mean (alpha sub N)\n",
        "    est = MCPI(10000)\n",
        "    alpha = alpha + est\n",
        "    estimates.append(est)\n",
        "  mean = (1/count)*(alpha)\n",
        "  \n",
        "  s = 0\n",
        "  for i in range(0,count): # Calculating beta sub N\n",
        "    s = s + (estimates[i] - mean)**2\n",
        "  return (1/count)*(s)\n",
        "MSEBETA(100, pi)"
      ],
      "execution_count": 0,
      "outputs": [
        {
          "output_type": "execute_result",
          "data": {
            "text/plain": [
              "0.000244923904"
            ]
          },
          "metadata": {
            "tags": []
          },
          "execution_count": 44
        }
      ]
    },
    {
      "cell_type": "markdown",
      "metadata": {
        "id": "tgAUZSqoPf2Z",
        "colab_type": "text"
      },
      "source": [
        "- Repeat the above estimation of $MSE(\\pi_N)$ for $N = 2^5, ..., 2^10$"
      ]
    },
    {
      "cell_type": "code",
      "metadata": {
        "id": "Mt5PLwqk2rvU",
        "colab_type": "code",
        "outputId": "f7128bff-c455-4daf-b7c7-3fd67e136fd9",
        "colab": {
          "base_uri": "https://localhost:8080/",
          "height": 55
        }
      },
      "source": [
        "# Repeating with different values of N\n",
        "nlist = []\n",
        "betalist = []\n",
        "for i in range(5,10): nlist.append(2**i)\n",
        "for i in range(0,5): betalist.append(MSEBETA(nlist[i],pi))\n",
        "print (betalist)"
      ],
      "execution_count": 0,
      "outputs": [
        {
          "output_type": "stream",
          "text": [
            "[0.0003314523437499995, 0.00029021558593749966, 0.0002875585937499995, 0.00028610871093750025, 0.00027024996093750017]\n"
          ],
          "name": "stdout"
        }
      ]
    },
    {
      "cell_type": "code",
      "metadata": {
        "id": "G8_F1-PtMekT",
        "colab_type": "code",
        "outputId": "7aaa9216-b76e-4b8c-b98d-e90a4f60b3b4",
        "colab": {
          "base_uri": "https://localhost:8080/",
          "height": 299
        }
      },
      "source": [
        "plt.loglog(nlist, betalist)\n",
        "plt.xlabel('MSE Estimate')\n",
        "plt.ylabel('N')\n",
        "plt.title('Log Log chart of MSE estimate');\n",
        "plt.show()\n"
      ],
      "execution_count": 0,
      "outputs": [
        {
          "output_type": "display_data",
          "data": {
            "image/png": "[encoded data removed]",
            "text/plain": [
              "<Figure size 432x288 with 1 Axes>"
            ]
          },
          "metadata": {
            "tags": []
          }
        }
      ]
    },
    {
      "cell_type": "markdown",
      "metadata": {
        "id": "4KadkwcSON14",
        "colab_type": "text"
      },
      "source": [
        "# Monte Carlo Integral\n"
      ]
    },
    {
      "cell_type": "markdown",
      "metadata": {
        "id": "EJLvZ5cAOVMf",
        "colab_type": "text"
      },
      "source": [
        "**Example 2**\n",
        "- Implement Algorithm 1 for estimator $\\alpha_N$\n",
        "- Estimate $MSE(\\alpha_N)$ for $N = 2^5, ..., 2^10$\n"
      ]
    },
    {
      "cell_type": "code",
      "metadata": {
        "id": "ey2-QYncPbiI",
        "colab_type": "code",
        "outputId": "4a215bc4-4ef2-494a-9e97-dadc22366a14",
        "colab": {
          "base_uri": "https://localhost:8080/",
          "height": 299
        }
      },
      "source": [
        "\n",
        "def MCINTEGRAL(N):\n",
        "  s = 0\n",
        "  for i in range(1,N):\n",
        "    X = np.random.uniform(0,1)\n",
        "    if (X < 0.01):s += 100\n",
        "    if ((X > 0.01) and (X<1)): s += 1\n",
        "  return (s/N)\n",
        "\n",
        "nnlist = []\n",
        "intlist = []\n",
        "for i in range(5,10): nnlist.append(2**i)\n",
        "for i in range(0,5): intlist.append(MCINTEGRAL(nlist[i]))\n",
        "\n",
        "plt.loglog(nlist, intlist)\n",
        "plt.xlabel('MSE Estimate')\n",
        "plt.ylabel('N')\n",
        "plt.title('Log Log chart of MSE estimate');\n",
        "plt.show()"
      ],
      "execution_count": 0,
      "outputs": [
        {
          "output_type": "display_data",
          "data": {
            "image/png": "[encoded data removed]",
            "text/plain": [
              "<Figure size 432x288 with 1 Axes>"
            ]
          },
          "metadata": {
            "tags": []
          }
        }
      ]
    }
  ]
}